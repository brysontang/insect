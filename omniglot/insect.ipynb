{
 "cells": [
  {
   "cell_type": "code",
   "execution_count": 1,
   "metadata": {},
   "outputs": [],
   "source": [
    "# Auto-reload external modules\n",
    "%load_ext autoreload\n",
    "%autoreload 2\n",
    "\n",
    "import torch.nn as nn\n",
    "import torch.optim as optim\n",
    "\n",
    "from insect import meta_train, evaluate_model\n",
    "from maml import meta_train_maml, evaluate_model_maml"
   ]
  },
  {
   "cell_type": "code",
   "execution_count": 3,
   "metadata": {},
   "outputs": [],
   "source": [
    "meta_iterations=6000\n",
    "inner_steps=10\n",
    "adapt_lr=0.01\n",
    "N=5\n",
    "K=1\n",
    "Q=15\n",
    "memory_dim=20\n",
    "root = '../data/omniglot'"
   ]
  },
  {
   "cell_type": "code",
   "execution_count": null,
   "metadata": {},
   "outputs": [],
   "source": [
    "model = meta_train(root, \n",
    "                  meta_iterations, \n",
    "                  inner_steps, \n",
    "                  adapt_lr, \n",
    "                  N, \n",
    "                  K, \n",
    "                  Q, \n",
    "                  memory_dim)"
   ]
  },
  {
   "cell_type": "code",
   "execution_count": null,
   "metadata": {},
   "outputs": [],
   "source": [
    "evaluate_model(model, root, N, K, Q)"
   ]
  },
  {
   "cell_type": "code",
   "execution_count": null,
   "metadata": {},
   "outputs": [],
   "source": [
    "model_maml = meta_train_maml(root, \n",
    "                  meta_iterations, \n",
    "                  inner_steps, \n",
    "                  0.01,\n",
    "                  1e-3, \n",
    "                  N, \n",
    "                  K, \n",
    "                  Q)\n",
    "\n",
    "evaluate_model_maml(model_maml, root, N, K, Q)\n"
   ]
  },
  {
   "cell_type": "code",
   "execution_count": null,
   "metadata": {},
   "outputs": [],
   "source": []
  }
 ],
 "metadata": {
  "kernelspec": {
   "display_name": "torch",
   "language": "python",
   "name": "python3"
  },
  "language_info": {
   "codemirror_mode": {
    "name": "ipython",
    "version": 3
   },
   "file_extension": ".py",
   "mimetype": "text/x-python",
   "name": "python",
   "nbconvert_exporter": "python",
   "pygments_lexer": "ipython3",
   "version": "3.12.4"
  }
 },
 "nbformat": 4,
 "nbformat_minor": 2
}
