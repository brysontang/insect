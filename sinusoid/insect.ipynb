{
 "cells": [
  {
   "cell_type": "code",
   "execution_count": null,
   "metadata": {},
   "outputs": [],
   "source": [
    "# Auto-reload external modules\n",
    "%load_ext autoreload\n",
    "%autoreload 2\n",
    "\n",
    "import torch.nn as nn\n",
    "import torch.optim as optim\n",
    "\n",
    "from insect import meta_train, evaluate_model, INSECTModel\n",
    "from maml import maml_train, maml_evaluate, MAMLModel"
   ]
  },
  {
   "cell_type": "code",
   "execution_count": 7,
   "metadata": {},
   "outputs": [],
   "source": [
    "#---------------------------\n",
    "# Meta-Learning Setup\n",
    "#---------------------------\n",
    "# The model takes x and memory as input.\n",
    "# Let's say x is 1D and memory is a small vector (e.g., 5D).\n",
    "# We will concatenate them: final input dimension = x_dim + memory_dim\n",
    "x_dim = 1\n",
    "memory_dim = 20\n",
    "hidden_dim = 128\n",
    "output_dim = 1\n",
    "\n",
    "model = INSECTModel(x_dim + memory_dim, hidden_dim, output_dim)\n",
    "\n",
    "# We'll define a meta-training loop that updates model weights so that it can\n",
    "# later adapt quickly by changing the memory.\n",
    "\n",
    "#---------------------------\n",
    "# Meta-Training Configuration\n",
    "#---------------------------\n",
    "meta_optimizer = optim.Adam(model.parameters(), lr=1e-3)\n",
    "loss_fn = nn.MSELoss()\n",
    "\n",
    "# Hyperparameters\n",
    "meta_iterations = 6000       # Number of meta-training iterations\n",
    "inner_steps = 10              # Number of memory adaptation steps per task\n",
    "adapt_lr = 0.01              # Learning rate for adapting memory at test-time\n",
    "task_batch_size = 10         # Number of points per task for adaptation\n",
    "test_batch_size = 1          # Number of points to test after adaptation"
   ]
  },
  {
   "cell_type": "code",
   "execution_count": null,
   "metadata": {},
   "outputs": [],
   "source": [
    "meta_train(meta_iterations, inner_steps, adapt_lr, task_batch_size, test_batch_size, memory_dim, model, loss_fn, meta_optimizer)"
   ]
  },
  {
   "cell_type": "code",
   "execution_count": null,
   "metadata": {},
   "outputs": [],
   "source": [
    "evaluate_model(model, task_batch_size, test_batch_size, adapt_lr, memory_dim, loss_fn)"
   ]
  },
  {
   "cell_type": "code",
   "execution_count": 102,
   "metadata": {},
   "outputs": [],
   "source": [
    "input_dim = 1\n",
    "hidden_dim = 138\n",
    "output_dim = 1\n",
    "\n",
    "max_meta_iterations = 6000\n",
    "inner_steps = 10\n",
    "inner_lr = 0.01\n",
    "task_batch_size = 10\n",
    "test_batch_size = 10\n",
    "\n",
    "maml_model = MAMLModel(input_dim, hidden_dim, output_dim)\n",
    "maml_loss_fn = nn.MSELoss()\n",
    "maml_meta_optimizer = optim.Adam(maml_model.parameters(), lr=0.001)"
   ]
  },
  {
   "cell_type": "code",
   "execution_count": null,
   "metadata": {},
   "outputs": [],
   "source": [
    "# Meta-train MAML\n",
    "maml_train(\n",
    "    maml_model,\n",
    "    maml_loss_fn,\n",
    "    maml_meta_optimizer,\n",
    "    max_meta_iterations,\n",
    "    inner_steps,\n",
    "    inner_lr,\n",
    "    task_batch_size,\n",
    "    test_batch_size\n",
    ")\n"
   ]
  },
  {
   "cell_type": "code",
   "execution_count": null,
   "metadata": {},
   "outputs": [],
   "source": [
    "# Evaluate MAML model\n",
    "maml_evaluate(\n",
    "    model=maml_model,\n",
    "    loss_fn=maml_loss_fn,\n",
    "    inner_steps=10,\n",
    "    inner_lr=0.01,\n",
    "    task_batch_size=10\n",
    ")"
   ]
  }
 ],
 "metadata": {
  "kernelspec": {
   "display_name": "torch",
   "language": "python",
   "name": "python3"
  },
  "language_info": {
   "codemirror_mode": {
    "name": "ipython",
    "version": 3
   },
   "file_extension": ".py",
   "mimetype": "text/x-python",
   "name": "python",
   "nbconvert_exporter": "python",
   "pygments_lexer": "ipython3",
   "version": "3.8.20"
  }
 },
 "nbformat": 4,
 "nbformat_minor": 2
}
